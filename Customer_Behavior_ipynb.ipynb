{
  "nbformat": 4,
  "nbformat_minor": 0,
  "metadata": {
    "colab": {
      "provenance": [],
      "authorship_tag": "ABX9TyOs7X2+EwcxOc5hRisEzuHv",
      "include_colab_link": true
    },
    "kernelspec": {
      "name": "python3",
      "display_name": "Python 3"
    },
    "language_info": {
      "name": "python"
    }
  },
  "cells": [
    {
      "cell_type": "markdown",
      "metadata": {
        "id": "view-in-github",
        "colab_type": "text"
      },
      "source": [
        "<a href=\"https://colab.research.google.com/github/ElevenStream/Commerce-Sales-Optimization/blob/main/Customer_Behavior_ipynb.ipynb\" target=\"_parent\"><img src=\"https://colab.research.google.com/assets/colab-badge.svg\" alt=\"Open In Colab\"/></a>"
      ]
    },
    {
      "cell_type": "code",
      "execution_count": null,
      "metadata": {
        "colab": {
          "base_uri": "https://localhost:8080/"
        },
        "id": "hxt4wqZYD6cs",
        "outputId": "77c87214-d79a-4f90-a11a-c700d6ef34c9"
      },
      "outputs": [
        {
          "output_type": "stream",
          "name": "stdout",
          "text": [
            "Synthetic datasets generated and saved!\n"
          ]
        }
      ],
      "source": [
        "\n",
        "import pandas as pd\n",
        "import numpy as np\n",
        "import matplotlib.pyplot as plt\n",
        "import seaborn as sns\n",
        "from datetime import datetime, timedelta\n",
        "import random\n",
        "import os\n",
        "\n",
        "# Create project folder in Google Drive\n",
        "project_folder = '/content/Customer_Behavior_Project'\n",
        "os.makedirs(project_folder, exist_ok=True)\n",
        "\n",
        "# Generate synthetic e-commerce data\n",
        "np.random.seed(42)\n",
        "num_customers = 1000\n",
        "num_orders = 5000\n",
        "\n",
        "# Generate customers\n",
        "customers = pd.DataFrame({\n",
        "    'customer_id': np.arange(1, num_customers + 1),\n",
        "    'customer_name': [f'Customer_{i}' for i in range(1, num_customers + 1)],\n",
        "    'country': np.random.choice(['USA', 'Canada', 'UK', 'Germany', 'France'], num_customers)\n",
        "})\n",
        "\n",
        "# Generate orders\n",
        "orders = pd.DataFrame({\n",
        "    'order_id': np.arange(1, num_orders + 1),\n",
        "    'customer_id': np.random.choice(customers['customer_id'], num_orders),\n",
        "    'order_date': [datetime.today() - timedelta(days=random.randint(1, 365)) for _ in range(num_orders)],\n",
        "    'amount': np.random.exponential(scale=100, size=num_orders).round(2),\n",
        "    'product_category': np.random.choice(['Electronics', 'Fashion', 'Home', 'Toys', 'Books'], num_orders)\n",
        "})\n",
        "\n",
        "# Save datasets\n",
        "customers.to_csv(f'{project_folder}/customers.csv', index=False)\n",
        "orders.to_csv(f'{project_folder}/orders.csv', index=False)\n",
        "\n",
        "print(\"Synthetic datasets generated and saved!\")"
      ]
    },
    {
      "cell_type": "code",
      "source": [],
      "metadata": {
        "id": "e4YWCIHRMuAx"
      },
      "execution_count": null,
      "outputs": []
    },
    {
      "cell_type": "code",
      "source": [],
      "metadata": {
        "id": "jW9eZf-6GvrO"
      },
      "execution_count": null,
      "outputs": []
    },
    {
      "cell_type": "code",
      "source": [
        "\n",
        "# Load datasets\n",
        "customers = pd.read_csv(f'{project_folder}/customers.csv')\n",
        "orders = pd.read_csv(f'{project_folder}/orders.csv')\n",
        "\n",
        "# Convert 'order_date' to datetime\n",
        "orders['order_date'] = pd.to_datetime(orders['order_date'])\n",
        "\n",
        "# Basic data checks\n",
        "print(customers.info())\n",
        "print(orders.info())\n",
        "\n",
        "# Check for missing values\n",
        "print(customers.isnull().sum())\n",
        "print(orders.isnull().sum())\n",
        "\n",
        "# Merge datasets for analysis\n",
        "data = pd.merge(orders, customers, on='customer_id')\n",
        "\n",
        "print(\"✅ Data merged and ready for analysis!\")\n",
        "data.head()"
      ],
      "metadata": {
        "colab": {
          "base_uri": "https://localhost:8080/",
          "height": 921
        },
        "id": "yJAmj2ObE3-X",
        "outputId": "8fd858c8-1113-41e1-cb86-07ce54d061b9"
      },
      "execution_count": null,
      "outputs": [
        {
          "output_type": "stream",
          "name": "stdout",
          "text": [
            "<class 'pandas.core.frame.DataFrame'>\n",
            "RangeIndex: 1000 entries, 0 to 999\n",
            "Data columns (total 3 columns):\n",
            " #   Column         Non-Null Count  Dtype \n",
            "---  ------         --------------  ----- \n",
            " 0   customer_id    1000 non-null   int64 \n",
            " 1   customer_name  1000 non-null   object\n",
            " 2   country        1000 non-null   object\n",
            "dtypes: int64(1), object(2)\n",
            "memory usage: 23.6+ KB\n",
            "None\n",
            "<class 'pandas.core.frame.DataFrame'>\n",
            "RangeIndex: 5000 entries, 0 to 4999\n",
            "Data columns (total 5 columns):\n",
            " #   Column            Non-Null Count  Dtype         \n",
            "---  ------            --------------  -----         \n",
            " 0   order_id          5000 non-null   int64         \n",
            " 1   customer_id       5000 non-null   int64         \n",
            " 2   order_date        5000 non-null   datetime64[ns]\n",
            " 3   amount            5000 non-null   float64       \n",
            " 4   product_category  5000 non-null   object        \n",
            "dtypes: datetime64[ns](1), float64(1), int64(2), object(1)\n",
            "memory usage: 195.4+ KB\n",
            "None\n",
            "customer_id      0\n",
            "customer_name    0\n",
            "country          0\n",
            "dtype: int64\n",
            "order_id            0\n",
            "customer_id         0\n",
            "order_date          0\n",
            "amount              0\n",
            "product_category    0\n",
            "dtype: int64\n",
            "✅ Data merged and ready for analysis!\n"
          ]
        },
        {
          "output_type": "execute_result",
          "data": {
            "text/plain": [
              "   order_id  customer_id                 order_date  amount product_category  \\\n",
              "0         1          460 2024-11-27 05:22:50.884113   31.74      Electronics   \n",
              "1         2          356 2025-01-01 05:22:50.884136  117.88             Toys   \n",
              "2         3          324 2024-11-01 05:22:50.884140   30.66            Books   \n",
              "3         4          133 2024-10-10 05:22:50.884142  279.80            Books   \n",
              "4         5          888 2024-12-24 05:22:50.884144  101.16             Toys   \n",
              "\n",
              "  customer_name  country  \n",
              "0  Customer_460       UK  \n",
              "1  Customer_356       UK  \n",
              "2  Customer_324      USA  \n",
              "3  Customer_133  Germany  \n",
              "4  Customer_888   France  "
            ],
            "text/html": [
              "\n",
              "  <div id=\"df-fd80c4c8-5e4c-4bd7-9830-56fbdd5971d3\" class=\"colab-df-container\">\n",
              "    <div>\n",
              "<style scoped>\n",
              "    .dataframe tbody tr th:only-of-type {\n",
              "        vertical-align: middle;\n",
              "    }\n",
              "\n",
              "    .dataframe tbody tr th {\n",
              "        vertical-align: top;\n",
              "    }\n",
              "\n",
              "    .dataframe thead th {\n",
              "        text-align: right;\n",
              "    }\n",
              "</style>\n",
              "<table border=\"1\" class=\"dataframe\">\n",
              "  <thead>\n",
              "    <tr style=\"text-align: right;\">\n",
              "      <th></th>\n",
              "      <th>order_id</th>\n",
              "      <th>customer_id</th>\n",
              "      <th>order_date</th>\n",
              "      <th>amount</th>\n",
              "      <th>product_category</th>\n",
              "      <th>customer_name</th>\n",
              "      <th>country</th>\n",
              "    </tr>\n",
              "  </thead>\n",
              "  <tbody>\n",
              "    <tr>\n",
              "      <th>0</th>\n",
              "      <td>1</td>\n",
              "      <td>460</td>\n",
              "      <td>2024-11-27 05:22:50.884113</td>\n",
              "      <td>31.74</td>\n",
              "      <td>Electronics</td>\n",
              "      <td>Customer_460</td>\n",
              "      <td>UK</td>\n",
              "    </tr>\n",
              "    <tr>\n",
              "      <th>1</th>\n",
              "      <td>2</td>\n",
              "      <td>356</td>\n",
              "      <td>2025-01-01 05:22:50.884136</td>\n",
              "      <td>117.88</td>\n",
              "      <td>Toys</td>\n",
              "      <td>Customer_356</td>\n",
              "      <td>UK</td>\n",
              "    </tr>\n",
              "    <tr>\n",
              "      <th>2</th>\n",
              "      <td>3</td>\n",
              "      <td>324</td>\n",
              "      <td>2024-11-01 05:22:50.884140</td>\n",
              "      <td>30.66</td>\n",
              "      <td>Books</td>\n",
              "      <td>Customer_324</td>\n",
              "      <td>USA</td>\n",
              "    </tr>\n",
              "    <tr>\n",
              "      <th>3</th>\n",
              "      <td>4</td>\n",
              "      <td>133</td>\n",
              "      <td>2024-10-10 05:22:50.884142</td>\n",
              "      <td>279.80</td>\n",
              "      <td>Books</td>\n",
              "      <td>Customer_133</td>\n",
              "      <td>Germany</td>\n",
              "    </tr>\n",
              "    <tr>\n",
              "      <th>4</th>\n",
              "      <td>5</td>\n",
              "      <td>888</td>\n",
              "      <td>2024-12-24 05:22:50.884144</td>\n",
              "      <td>101.16</td>\n",
              "      <td>Toys</td>\n",
              "      <td>Customer_888</td>\n",
              "      <td>France</td>\n",
              "    </tr>\n",
              "  </tbody>\n",
              "</table>\n",
              "</div>\n",
              "    <div class=\"colab-df-buttons\">\n",
              "\n",
              "  <div class=\"colab-df-container\">\n",
              "    <button class=\"colab-df-convert\" onclick=\"convertToInteractive('df-fd80c4c8-5e4c-4bd7-9830-56fbdd5971d3')\"\n",
              "            title=\"Convert this dataframe to an interactive table.\"\n",
              "            style=\"display:none;\">\n",
              "\n",
              "  <svg xmlns=\"http://www.w3.org/2000/svg\" height=\"24px\" viewBox=\"0 -960 960 960\">\n",
              "    <path d=\"M120-120v-720h720v720H120Zm60-500h600v-160H180v160Zm220 220h160v-160H400v160Zm0 220h160v-160H400v160ZM180-400h160v-160H180v160Zm440 0h160v-160H620v160ZM180-180h160v-160H180v160Zm440 0h160v-160H620v160Z\"/>\n",
              "  </svg>\n",
              "    </button>\n",
              "\n",
              "  <style>\n",
              "    .colab-df-container {\n",
              "      display:flex;\n",
              "      gap: 12px;\n",
              "    }\n",
              "\n",
              "    .colab-df-convert {\n",
              "      background-color: #E8F0FE;\n",
              "      border: none;\n",
              "      border-radius: 50%;\n",
              "      cursor: pointer;\n",
              "      display: none;\n",
              "      fill: #1967D2;\n",
              "      height: 32px;\n",
              "      padding: 0 0 0 0;\n",
              "      width: 32px;\n",
              "    }\n",
              "\n",
              "    .colab-df-convert:hover {\n",
              "      background-color: #E2EBFA;\n",
              "      box-shadow: 0px 1px 2px rgba(60, 64, 67, 0.3), 0px 1px 3px 1px rgba(60, 64, 67, 0.15);\n",
              "      fill: #174EA6;\n",
              "    }\n",
              "\n",
              "    .colab-df-buttons div {\n",
              "      margin-bottom: 4px;\n",
              "    }\n",
              "\n",
              "    [theme=dark] .colab-df-convert {\n",
              "      background-color: #3B4455;\n",
              "      fill: #D2E3FC;\n",
              "    }\n",
              "\n",
              "    [theme=dark] .colab-df-convert:hover {\n",
              "      background-color: #434B5C;\n",
              "      box-shadow: 0px 1px 3px 1px rgba(0, 0, 0, 0.15);\n",
              "      filter: drop-shadow(0px 1px 2px rgba(0, 0, 0, 0.3));\n",
              "      fill: #FFFFFF;\n",
              "    }\n",
              "  </style>\n",
              "\n",
              "    <script>\n",
              "      const buttonEl =\n",
              "        document.querySelector('#df-fd80c4c8-5e4c-4bd7-9830-56fbdd5971d3 button.colab-df-convert');\n",
              "      buttonEl.style.display =\n",
              "        google.colab.kernel.accessAllowed ? 'block' : 'none';\n",
              "\n",
              "      async function convertToInteractive(key) {\n",
              "        const element = document.querySelector('#df-fd80c4c8-5e4c-4bd7-9830-56fbdd5971d3');\n",
              "        const dataTable =\n",
              "          await google.colab.kernel.invokeFunction('convertToInteractive',\n",
              "                                                    [key], {});\n",
              "        if (!dataTable) return;\n",
              "\n",
              "        const docLinkHtml = 'Like what you see? Visit the ' +\n",
              "          '<a target=\"_blank\" href=https://colab.research.google.com/notebooks/data_table.ipynb>data table notebook</a>'\n",
              "          + ' to learn more about interactive tables.';\n",
              "        element.innerHTML = '';\n",
              "        dataTable['output_type'] = 'display_data';\n",
              "        await google.colab.output.renderOutput(dataTable, element);\n",
              "        const docLink = document.createElement('div');\n",
              "        docLink.innerHTML = docLinkHtml;\n",
              "        element.appendChild(docLink);\n",
              "      }\n",
              "    </script>\n",
              "  </div>\n",
              "\n",
              "\n",
              "<div id=\"df-73256322-d3bb-4971-8127-1fcab5346145\">\n",
              "  <button class=\"colab-df-quickchart\" onclick=\"quickchart('df-73256322-d3bb-4971-8127-1fcab5346145')\"\n",
              "            title=\"Suggest charts\"\n",
              "            style=\"display:none;\">\n",
              "\n",
              "<svg xmlns=\"http://www.w3.org/2000/svg\" height=\"24px\"viewBox=\"0 0 24 24\"\n",
              "     width=\"24px\">\n",
              "    <g>\n",
              "        <path d=\"M19 3H5c-1.1 0-2 .9-2 2v14c0 1.1.9 2 2 2h14c1.1 0 2-.9 2-2V5c0-1.1-.9-2-2-2zM9 17H7v-7h2v7zm4 0h-2V7h2v10zm4 0h-2v-4h2v4z\"/>\n",
              "    </g>\n",
              "</svg>\n",
              "  </button>\n",
              "\n",
              "<style>\n",
              "  .colab-df-quickchart {\n",
              "      --bg-color: #E8F0FE;\n",
              "      --fill-color: #1967D2;\n",
              "      --hover-bg-color: #E2EBFA;\n",
              "      --hover-fill-color: #174EA6;\n",
              "      --disabled-fill-color: #AAA;\n",
              "      --disabled-bg-color: #DDD;\n",
              "  }\n",
              "\n",
              "  [theme=dark] .colab-df-quickchart {\n",
              "      --bg-color: #3B4455;\n",
              "      --fill-color: #D2E3FC;\n",
              "      --hover-bg-color: #434B5C;\n",
              "      --hover-fill-color: #FFFFFF;\n",
              "      --disabled-bg-color: #3B4455;\n",
              "      --disabled-fill-color: #666;\n",
              "  }\n",
              "\n",
              "  .colab-df-quickchart {\n",
              "    background-color: var(--bg-color);\n",
              "    border: none;\n",
              "    border-radius: 50%;\n",
              "    cursor: pointer;\n",
              "    display: none;\n",
              "    fill: var(--fill-color);\n",
              "    height: 32px;\n",
              "    padding: 0;\n",
              "    width: 32px;\n",
              "  }\n",
              "\n",
              "  .colab-df-quickchart:hover {\n",
              "    background-color: var(--hover-bg-color);\n",
              "    box-shadow: 0 1px 2px rgba(60, 64, 67, 0.3), 0 1px 3px 1px rgba(60, 64, 67, 0.15);\n",
              "    fill: var(--button-hover-fill-color);\n",
              "  }\n",
              "\n",
              "  .colab-df-quickchart-complete:disabled,\n",
              "  .colab-df-quickchart-complete:disabled:hover {\n",
              "    background-color: var(--disabled-bg-color);\n",
              "    fill: var(--disabled-fill-color);\n",
              "    box-shadow: none;\n",
              "  }\n",
              "\n",
              "  .colab-df-spinner {\n",
              "    border: 2px solid var(--fill-color);\n",
              "    border-color: transparent;\n",
              "    border-bottom-color: var(--fill-color);\n",
              "    animation:\n",
              "      spin 1s steps(1) infinite;\n",
              "  }\n",
              "\n",
              "  @keyframes spin {\n",
              "    0% {\n",
              "      border-color: transparent;\n",
              "      border-bottom-color: var(--fill-color);\n",
              "      border-left-color: var(--fill-color);\n",
              "    }\n",
              "    20% {\n",
              "      border-color: transparent;\n",
              "      border-left-color: var(--fill-color);\n",
              "      border-top-color: var(--fill-color);\n",
              "    }\n",
              "    30% {\n",
              "      border-color: transparent;\n",
              "      border-left-color: var(--fill-color);\n",
              "      border-top-color: var(--fill-color);\n",
              "      border-right-color: var(--fill-color);\n",
              "    }\n",
              "    40% {\n",
              "      border-color: transparent;\n",
              "      border-right-color: var(--fill-color);\n",
              "      border-top-color: var(--fill-color);\n",
              "    }\n",
              "    60% {\n",
              "      border-color: transparent;\n",
              "      border-right-color: var(--fill-color);\n",
              "    }\n",
              "    80% {\n",
              "      border-color: transparent;\n",
              "      border-right-color: var(--fill-color);\n",
              "      border-bottom-color: var(--fill-color);\n",
              "    }\n",
              "    90% {\n",
              "      border-color: transparent;\n",
              "      border-bottom-color: var(--fill-color);\n",
              "    }\n",
              "  }\n",
              "</style>\n",
              "\n",
              "  <script>\n",
              "    async function quickchart(key) {\n",
              "      const quickchartButtonEl =\n",
              "        document.querySelector('#' + key + ' button');\n",
              "      quickchartButtonEl.disabled = true;  // To prevent multiple clicks.\n",
              "      quickchartButtonEl.classList.add('colab-df-spinner');\n",
              "      try {\n",
              "        const charts = await google.colab.kernel.invokeFunction(\n",
              "            'suggestCharts', [key], {});\n",
              "      } catch (error) {\n",
              "        console.error('Error during call to suggestCharts:', error);\n",
              "      }\n",
              "      quickchartButtonEl.classList.remove('colab-df-spinner');\n",
              "      quickchartButtonEl.classList.add('colab-df-quickchart-complete');\n",
              "    }\n",
              "    (() => {\n",
              "      let quickchartButtonEl =\n",
              "        document.querySelector('#df-73256322-d3bb-4971-8127-1fcab5346145 button');\n",
              "      quickchartButtonEl.style.display =\n",
              "        google.colab.kernel.accessAllowed ? 'block' : 'none';\n",
              "    })();\n",
              "  </script>\n",
              "</div>\n",
              "\n",
              "    </div>\n",
              "  </div>\n"
            ],
            "application/vnd.google.colaboratory.intrinsic+json": {
              "type": "dataframe",
              "variable_name": "data",
              "summary": "{\n  \"name\": \"data\",\n  \"rows\": 5000,\n  \"fields\": [\n    {\n      \"column\": \"order_id\",\n      \"properties\": {\n        \"dtype\": \"number\",\n        \"std\": 1443,\n        \"min\": 1,\n        \"max\": 5000,\n        \"num_unique_values\": 5000,\n        \"samples\": [\n          1502,\n          2587,\n          2654\n        ],\n        \"semantic_type\": \"\",\n        \"description\": \"\"\n      }\n    },\n    {\n      \"column\": \"customer_id\",\n      \"properties\": {\n        \"dtype\": \"number\",\n        \"std\": 288,\n        \"min\": 1,\n        \"max\": 1000,\n        \"num_unique_values\": 992,\n        \"samples\": [\n          632,\n          976,\n          448\n        ],\n        \"semantic_type\": \"\",\n        \"description\": \"\"\n      }\n    },\n    {\n      \"column\": \"order_date\",\n      \"properties\": {\n        \"dtype\": \"date\",\n        \"min\": \"2024-03-14 05:22:50.885077\",\n        \"max\": \"2025-03-13 05:22:50.894017\",\n        \"num_unique_values\": 5000,\n        \"samples\": [\n          \"2024-06-27 05:22:50.887256\",\n          \"2024-10-06 05:22:50.889598\",\n          \"2024-03-23 05:22:50.889737\"\n        ],\n        \"semantic_type\": \"\",\n        \"description\": \"\"\n      }\n    },\n    {\n      \"column\": \"amount\",\n      \"properties\": {\n        \"dtype\": \"number\",\n        \"std\": 97.93327155791023,\n        \"min\": 0.0,\n        \"max\": 772.35,\n        \"num_unique_values\": 4465,\n        \"samples\": [\n          241.47,\n          98.26,\n          52.43\n        ],\n        \"semantic_type\": \"\",\n        \"description\": \"\"\n      }\n    },\n    {\n      \"column\": \"product_category\",\n      \"properties\": {\n        \"dtype\": \"category\",\n        \"num_unique_values\": 5,\n        \"samples\": [\n          \"Toys\",\n          \"Home\",\n          \"Books\"\n        ],\n        \"semantic_type\": \"\",\n        \"description\": \"\"\n      }\n    },\n    {\n      \"column\": \"customer_name\",\n      \"properties\": {\n        \"dtype\": \"category\",\n        \"num_unique_values\": 992,\n        \"samples\": [\n          \"Customer_632\",\n          \"Customer_976\",\n          \"Customer_448\"\n        ],\n        \"semantic_type\": \"\",\n        \"description\": \"\"\n      }\n    },\n    {\n      \"column\": \"country\",\n      \"properties\": {\n        \"dtype\": \"category\",\n        \"num_unique_values\": 5,\n        \"samples\": [\n          \"USA\",\n          \"Canada\",\n          \"Germany\"\n        ],\n        \"semantic_type\": \"\",\n        \"description\": \"\"\n      }\n    }\n  ]\n}"
            }
          },
          "metadata": {},
          "execution_count": 7
        }
      ]
    },
    {
      "cell_type": "code",
      "source": [],
      "metadata": {
        "id": "Ma2glB_BG9zv"
      },
      "execution_count": null,
      "outputs": []
    },
    {
      "cell_type": "code",
      "source": [
        "\n",
        "# Summary statistics\n",
        "print(data.describe())\n",
        "\n",
        "# Total revenue per country\n",
        "revenue_by_country = data.groupby('country')['amount'].sum().sort_values(ascending=False)\n",
        "print(revenue_by_country)\n",
        "\n",
        "# Revenue trends over time\n",
        "data['month'] = data['order_date'].dt.to_period('M')\n",
        "monthly_revenue = data.groupby('month')['amount'].sum()\n",
        "\n",
        "# Plot monthly revenue trend\n",
        "plt.figure(figsize=(12, 6))\n",
        "monthly_revenue.plot(kind='line', marker='o')\n",
        "plt.title('Monthly Revenue Trend')\n",
        "plt.xlabel('Month')\n",
        "plt.ylabel('Revenue')\n",
        "plt.grid(True)\n",
        "plt.show()\n",
        "\n",
        "# Product category analysis\n",
        "plt.figure(figsize=(8, 6))\n",
        "sns.boxplot(x='product_category', y='amount', data=data)\n",
        "plt.title('Spending Distribution by Product Category')\n",
        "plt.show()\n",
        "\n",
        "# Top customers by total spend\n",
        "top_customers = data.groupby('customer_name')['amount'].sum().sort_values(ascending=False).head(10)\n",
        "print(top_customers)"
      ],
      "metadata": {
        "colab": {
          "base_uri": "https://localhost:8080/",
          "height": 884
        },
        "id": "jeFfq-A3G05w",
        "outputId": "c36fb69a-7005-4d9e-b661-63a10c296f3a"
      },
      "execution_count": null,
      "outputs": [
        {
          "output_type": "stream",
          "name": "stdout",
          "text": [
            "          order_id  customer_id                     order_date       amount\n",
            "count  5000.000000  5000.000000                           5000  5000.000000\n",
            "mean   2500.500000   506.120400  2024-09-10 09:07:12.009408512    97.397724\n",
            "min       1.000000     1.000000     2024-03-14 05:22:50.885077     0.000000\n",
            "25%    1250.750000   261.000000  2024-06-11 23:22:50.887884800    27.717500\n",
            "50%    2500.500000   509.000000  2024-09-08 05:22:50.886699008    66.415000\n",
            "75%    3750.250000   754.250000  2024-12-10 05:22:50.887809024   134.915000\n",
            "max    5000.000000  1000.000000     2025-03-13 05:22:50.894017   772.350000\n",
            "std    1443.520003   288.110503                            NaN    97.933272\n",
            "country\n",
            "USA        107078.31\n",
            "France     101270.99\n",
            "Germany     97656.26\n",
            "Canada      91502.57\n",
            "UK          89480.49\n",
            "Name: amount, dtype: float64\n"
          ]
        },
        {
          "output_type": "display_data",
          "data": {
            "text/plain": [
              "<Figure size 1200x600 with 1 Axes>"
            ],
            "image/png": "[encoded data removed]"
          },
          "metadata": {}
        },
        {
          "output_type": "display_data",
          "data": {
            "text/plain": [
              "<Figure size 800x600 with 1 Axes>"
            ],
            "image/png": "[encoded data removed]"
          },
          "metadata": {}
        },
        {
          "output_type": "stream",
          "name": "stdout",
          "text": [
            "customer_name\n",
            "Customer_783    2024.67\n",
            "Customer_726    1716.89\n",
            "Customer_664    1699.11\n",
            "Customer_17     1654.65\n",
            "Customer_154    1652.43\n",
            "Customer_354    1648.50\n",
            "Customer_944    1617.15\n",
            "Customer_55     1481.37\n",
            "Customer_666    1474.06\n",
            "Customer_156    1447.57\n",
            "Name: amount, dtype: float64\n"
          ]
        }
      ]
    },
    {
      "cell_type": "code",
      "source": [
        "\n",
        "# Customer segmentation by spending\n",
        "def categorize_spender(amount):\n",
        "    if amount > 300:\n",
        "        return 'High Spender'\n",
        "    elif amount > 100:\n",
        "        return 'Medium Spender'\n",
        "    else:\n",
        "        return 'Low Spender'\n",
        "\n",
        "data['spender_category'] = data['amount'].apply(categorize_spender)\n",
        "\n",
        "# Spender category distribution\n",
        "spender_distribution = data['spender_category'].value_counts()\n",
        "print(spender_distribution)\n",
        "\n",
        "# Visualization of spender distribution\n",
        "plt.figure(figsize=(8, 6))\n",
        "sns.countplot(x='spender_category', data=data, palette='coolwarm')\n",
        "plt.title('Customer Spending Categories')\n",
        "plt.show()\n",
        "\n",
        "# Sales distribution per country\n",
        "plt.figure(figsize=(10, 6))\n",
        "sns.barplot(x='country', y='amount', data=data, estimator=sum, ci=None)\n",
        "plt.title('Total Sales by Country')\n",
        "plt.show()"
      ],
      "metadata": {
        "colab": {
          "base_uri": "https://localhost:8080/",
          "height": 677
        },
        "id": "hvJK0lqSHuA4",
        "outputId": "a3d2fd07-6582-4c5b-cec2-691a0de3dcc3"
      },
      "execution_count": null,
      "outputs": [
        {
          "output_type": "stream",
          "name": "stdout",
          "text": [
            "spender_category\n",
            "Low Spender       3241\n",
            "Medium Spender    1528\n",
            "High Spender       231\n",
            "Name: count, dtype: int64\n"
          ]
        },
        {
          "output_type": "stream",
          "name": "stderr",
          "text": [
            "<ipython-input-9-a6d1905dd700>:18: FutureWarning: \n",
            "\n",
            "Passing `palette` without assigning `hue` is deprecated and will be removed in v0.14.0. Assign the `x` variable to `hue` and set `legend=False` for the same effect.\n",
            "\n",
            "  sns.countplot(x='spender_category', data=data, palette='coolwarm')\n"
          ]
        },
        {
          "output_type": "display_data",
          "data": {
            "text/plain": [
              "<Figure size 800x600 with 1 Axes>"
            ],
            "image/png": "[encoded data removed]"
          },
          "metadata": {}
        },
        {
          "output_type": "stream",
          "name": "stderr",
          "text": [
            "<ipython-input-9-a6d1905dd700>:24: FutureWarning: \n",
            "\n",
            "The `ci` parameter is deprecated. Use `errorbar=None` for the same effect.\n",
            "\n",
            "  sns.barplot(x='country', y='amount', data=data, estimator=sum, ci=None)\n"
          ]
        },
        {
          "output_type": "display_data",
          "data": {
            "text/plain": [
              "<Figure size 1000x600 with 1 Axes>"
            ],
            "image/png": "[encoded data removed]"
          },
          "metadata": {}
        }
      ]
    },
    {
      "cell_type": "code",
      "source": [],
      "metadata": {
        "id": "Pkta8ORSH7yR"
      },
      "execution_count": null,
      "outputs": []
    },
    {
      "cell_type": "code",
      "source": [
        "\n",
        "# Export revenue by country\n",
        "revenue_by_country.to_csv(f'{project_folder}/revenue_by_country.csv')\n",
        "\n",
        "# Export top customers\n",
        "top_customers.to_csv(f'{project_folder}/top_customers.csv')\n",
        "\n",
        "# Export customer segmentation\n",
        "spender_distribution.to_csv(f'{project_folder}/spender_distribution.csv')\n",
        "\n",
        "print(\"✅ Reports generated and saved to project folder!\")"
      ],
      "metadata": {
        "colab": {
          "base_uri": "https://localhost:8080/"
        },
        "id": "9jlBTbilFjDo",
        "outputId": "3ddcbeed-226c-4fe2-a702-d610cc9c5689"
      },
      "execution_count": null,
      "outputs": [
        {
          "output_type": "stream",
          "name": "stdout",
          "text": [
            "✅ Reports generated and saved to project folder!\n"
          ]
        }
      ]
    },
    {
      "cell_type": "code",
      "source": [
        "\n",
        "# Install necessary packages\n",
        "!pip install plotly statsmodels\n",
        "\n",
        "import pandas as pd\n",
        "import numpy as np\n",
        "import matplotlib.pyplot as plt\n",
        "import seaborn as sns\n",
        "import plotly.express as px\n",
        "from statsmodels.tsa.holtwinters import ExponentialSmoothing\n",
        "from datetime import datetime, timedelta\n",
        "import random\n",
        "import os\n",
        "\n",
        "# Project folder setup\n",
        "project_folder = '/content/Customer_Behavior_Project_Advanced'\n",
        "os.makedirs(project_folder, exist_ok=True)\n",
        "\n",
        "# ------------------------------\n",
        "# Step 1: Data Generation\n",
        "# ------------------------------\n",
        "np.random.seed(42)\n",
        "num_customers = 1000\n",
        "num_orders = 5000\n",
        "\n",
        "# Generate customers\n",
        "customers = pd.DataFrame({\n",
        "    'customer_id': np.arange(1, num_customers + 1),\n",
        "    'customer_name': [f'Customer_{i}' for i in range(1, num_customers + 1)],\n",
        "    'country': np.random.choice(['USA', 'Canada', 'UK', 'Germany', 'France'], num_customers)\n",
        "})\n",
        "\n",
        "# Generate orders\n",
        "orders = pd.DataFrame({\n",
        "    'order_id': np.arange(1, num_orders + 1),\n",
        "    'customer_id': np.random.choice(customers['customer_id'], num_orders),\n",
        "    'order_date': [datetime.today() - timedelta(days=random.randint(1, 365)) for _ in range(num_orders)],\n",
        "    'amount': np.random.exponential(scale=100, size=num_orders).round(2),\n",
        "    'product_category': np.random.choice(['Electronics', 'Fashion', 'Home', 'Toys', 'Books'], num_orders)\n",
        "})\n",
        "\n",
        "# Save datasets\n",
        "customers.to_csv(f'{project_folder}/customers.csv', index=False)\n",
        "orders.to_csv(f'{project_folder}/orders.csv', index=False)\n",
        "\n",
        "# ------------------------------\n",
        "# Step 2: Data Preparation\n",
        "# ------------------------------\n",
        "orders['order_date'] = pd.to_datetime(orders['order_date'])\n",
        "data = pd.merge(orders, customers, on='customer_id')\n",
        "\n",
        "# ------------------------------\n",
        "# Step 3: Predictive Analysis (Sales Forecast)\n",
        "# ------------------------------\n",
        "data['month'] = data['order_date'].dt.to_period('M').dt.to_timestamp()\n",
        "monthly_sales = data.groupby('month')['amount'].sum()\n",
        "\n",
        "# Forecasting using Exponential Smoothing\n",
        "model = ExponentialSmoothing(monthly_sales, trend='add', seasonal='add', seasonal_periods=12)\n",
        "fitted_model = model.fit()\n",
        "forecast = fitted_model.forecast(6)\n",
        "\n",
        "# Save forecast results\n",
        "forecast.to_csv(f'{project_folder}/sales_forecast.csv')\n",
        "\n",
        "# ------------------------------\n",
        "# Step 4: Interactive Dashboard with Plotly\n",
        "# ------------------------------\n",
        "fig = px.bar(data, x='country', y='amount', color='product_category', title='Sales by Country and Category')\n",
        "fig.write_html(f\"{project_folder}/interactive_sales_dashboard.html\")\n",
        "\n",
        "# ------------------------------\n",
        "# Step 5: Advanced Automation (Simulated Email Report)\n",
        "# ------------------------------\n",
        "with open(f'{project_folder}/automated_report.txt', 'w') as file:\n",
        "    file.write(\"Automated Report Summary:\\n\")\n",
        "    file.write(f\"Total Sales Forecast for Next 6 Months:\\n{forecast}\\n\")\n",
        "\n",
        "print(\"✅ Project completed with advanced features and reports saved!\")"
      ],
      "metadata": {
        "colab": {
          "base_uri": "https://localhost:8080/",
          "height": 1000
        },
        "id": "M04WxjN8JY1E",
        "outputId": "ec8eb19e-b615-4585-cf77-d65b7644d85c"
      },
      "execution_count": null,
      "outputs": [
        {
          "output_type": "stream",
          "name": "stdout",
          "text": [
            "Requirement already satisfied: plotly in /usr/local/lib/python3.11/dist-packages (5.24.1)\n",
            "Requirement already satisfied: statsmodels in /usr/local/lib/python3.11/dist-packages (0.14.4)\n",
            "Requirement already satisfied: tenacity>=6.2.0 in /usr/local/lib/python3.11/dist-packages (from plotly) (9.0.0)\n",
            "Requirement already satisfied: packaging in /usr/local/lib/python3.11/dist-packages (from plotly) (24.2)\n",
            "Requirement already satisfied: numpy<3,>=1.22.3 in /usr/local/lib/python3.11/dist-packages (from statsmodels) (1.26.4)\n",
            "Requirement already satisfied: scipy!=1.9.2,>=1.8 in /usr/local/lib/python3.11/dist-packages (from statsmodels) (1.14.1)\n",
            "Requirement already satisfied: pandas!=2.1.0,>=1.4 in /usr/local/lib/python3.11/dist-packages (from statsmodels) (2.2.2)\n",
            "Requirement already satisfied: patsy>=0.5.6 in /usr/local/lib/python3.11/dist-packages (from statsmodels) (1.0.1)\n",
            "Requirement already satisfied: python-dateutil>=2.8.2 in /usr/local/lib/python3.11/dist-packages (from pandas!=2.1.0,>=1.4->statsmodels) (2.8.2)\n",
            "Requirement already satisfied: pytz>=2020.1 in /usr/local/lib/python3.11/dist-packages (from pandas!=2.1.0,>=1.4->statsmodels) (2025.1)\n",
            "Requirement already satisfied: tzdata>=2022.7 in /usr/local/lib/python3.11/dist-packages (from pandas!=2.1.0,>=1.4->statsmodels) (2025.1)\n",
            "Requirement already satisfied: six>=1.5 in /usr/local/lib/python3.11/dist-packages (from python-dateutil>=2.8.2->pandas!=2.1.0,>=1.4->statsmodels) (1.17.0)\n"
          ]
        },
        {
          "output_type": "stream",
          "name": "stderr",
          "text": [
            "/usr/local/lib/python3.11/dist-packages/statsmodels/tsa/base/tsa_model.py:473: ValueWarning: No frequency information was provided, so inferred frequency MS will be used.\n",
            "  self._init_dates(dates, freq)\n"
          ]
        },
        {
          "output_type": "error",
          "ename": "ValueError",
          "evalue": "Cannot compute initial seasonals using heuristic method with less than two full seasonal cycles in the data.",
          "traceback": [
            "\u001b[0;31m---------------------------------------------------------------------------\u001b[0m",
            "\u001b[0;31mValueError\u001b[0m                                Traceback (most recent call last)",
            "\u001b[0;32m<ipython-input-12-66eeb4769b52>\u001b[0m in \u001b[0;36m<cell line: 0>\u001b[0;34m()\u001b[0m\n\u001b[1;32m     56\u001b[0m \u001b[0;34m\u001b[0m\u001b[0m\n\u001b[1;32m     57\u001b[0m \u001b[0;31m# Forecasting using Exponential Smoothing\u001b[0m\u001b[0;34m\u001b[0m\u001b[0;34m\u001b[0m\u001b[0m\n\u001b[0;32m---> 58\u001b[0;31m \u001b[0mmodel\u001b[0m \u001b[0;34m=\u001b[0m \u001b[0mExponentialSmoothing\u001b[0m\u001b[0;34m(\u001b[0m\u001b[0mmonthly_sales\u001b[0m\u001b[0;34m,\u001b[0m \u001b[0mtrend\u001b[0m\u001b[0;34m=\u001b[0m\u001b[0;34m'add'\u001b[0m\u001b[0;34m,\u001b[0m \u001b[0mseasonal\u001b[0m\u001b[0;34m=\u001b[0m\u001b[0;34m'add'\u001b[0m\u001b[0;34m,\u001b[0m \u001b[0mseasonal_periods\u001b[0m\u001b[0;34m=\u001b[0m\u001b[0;36m12\u001b[0m\u001b[0;34m)\u001b[0m\u001b[0;34m\u001b[0m\u001b[0;34m\u001b[0m\u001b[0m\n\u001b[0m\u001b[1;32m     59\u001b[0m \u001b[0mfitted_model\u001b[0m \u001b[0;34m=\u001b[0m \u001b[0mmodel\u001b[0m\u001b[0;34m.\u001b[0m\u001b[0mfit\u001b[0m\u001b[0;34m(\u001b[0m\u001b[0;34m)\u001b[0m\u001b[0;34m\u001b[0m\u001b[0;34m\u001b[0m\u001b[0m\n\u001b[1;32m     60\u001b[0m \u001b[0mforecast\u001b[0m \u001b[0;34m=\u001b[0m \u001b[0mfitted_model\u001b[0m\u001b[0;34m.\u001b[0m\u001b[0mforecast\u001b[0m\u001b[0;34m(\u001b[0m\u001b[0;36m6\u001b[0m\u001b[0;34m)\u001b[0m\u001b[0;34m\u001b[0m\u001b[0;34m\u001b[0m\u001b[0m\n",
            "\u001b[0;32m/usr/local/lib/python3.11/dist-packages/pandas/util/_decorators.py\u001b[0m in \u001b[0;36mwrapper\u001b[0;34m(*args, **kwargs)\u001b[0m\n\u001b[1;32m    211\u001b[0m                     \u001b[0;32mraise\u001b[0m \u001b[0mTypeError\u001b[0m\u001b[0;34m(\u001b[0m\u001b[0mmsg\u001b[0m\u001b[0;34m)\u001b[0m\u001b[0;34m\u001b[0m\u001b[0;34m\u001b[0m\u001b[0m\n\u001b[1;32m    212\u001b[0m                 \u001b[0mkwargs\u001b[0m\u001b[0;34m[\u001b[0m\u001b[0mnew_arg_name\u001b[0m\u001b[0;34m]\u001b[0m \u001b[0;34m=\u001b[0m \u001b[0mnew_arg_value\u001b[0m\u001b[0;34m\u001b[0m\u001b[0;34m\u001b[0m\u001b[0m\n\u001b[0;32m--> 213\u001b[0;31m             \u001b[0;32mreturn\u001b[0m \u001b[0mfunc\u001b[0m\u001b[0;34m(\u001b[0m\u001b[0;34m*\u001b[0m\u001b[0margs\u001b[0m\u001b[0;34m,\u001b[0m \u001b[0;34m**\u001b[0m\u001b[0mkwargs\u001b[0m\u001b[0;34m)\u001b[0m\u001b[0;34m\u001b[0m\u001b[0;34m\u001b[0m\u001b[0m\n\u001b[0m\u001b[1;32m    214\u001b[0m \u001b[0;34m\u001b[0m\u001b[0m\n\u001b[1;32m    215\u001b[0m         \u001b[0;32mreturn\u001b[0m \u001b[0mcast\u001b[0m\u001b[0;34m(\u001b[0m\u001b[0mF\u001b[0m\u001b[0;34m,\u001b[0m \u001b[0mwrapper\u001b[0m\u001b[0;34m)\u001b[0m\u001b[0;34m\u001b[0m\u001b[0;34m\u001b[0m\u001b[0m\n",
            "\u001b[0;32m/usr/local/lib/python3.11/dist-packages/statsmodels/tsa/holtwinters/model.py\u001b[0m in \u001b[0;36m__init__\u001b[0;34m(self, endog, trend, damped_trend, seasonal, seasonal_periods, initialization_method, initial_level, initial_trend, initial_seasonal, use_boxcox, bounds, dates, freq, missing)\u001b[0m\n\u001b[1;32m    295\u001b[0m         \u001b[0mself\u001b[0m\u001b[0;34m.\u001b[0m\u001b[0m_lambda\u001b[0m \u001b[0;34m=\u001b[0m \u001b[0mnp\u001b[0m\u001b[0;34m.\u001b[0m\u001b[0mnan\u001b[0m\u001b[0;34m\u001b[0m\u001b[0;34m\u001b[0m\u001b[0m\n\u001b[1;32m    296\u001b[0m         \u001b[0mself\u001b[0m\u001b[0;34m.\u001b[0m\u001b[0m_y\u001b[0m \u001b[0;34m=\u001b[0m \u001b[0mself\u001b[0m\u001b[0;34m.\u001b[0m\u001b[0m_boxcox\u001b[0m\u001b[0;34m(\u001b[0m\u001b[0;34m)\u001b[0m\u001b[0;34m\u001b[0m\u001b[0;34m\u001b[0m\u001b[0m\n\u001b[0;32m--> 297\u001b[0;31m         \u001b[0mself\u001b[0m\u001b[0;34m.\u001b[0m\u001b[0m_initialize\u001b[0m\u001b[0;34m(\u001b[0m\u001b[0;34m)\u001b[0m\u001b[0;34m\u001b[0m\u001b[0;34m\u001b[0m\u001b[0m\n\u001b[0m\u001b[1;32m    298\u001b[0m         \u001b[0mself\u001b[0m\u001b[0;34m.\u001b[0m\u001b[0m_fixed_parameters\u001b[0m \u001b[0;34m=\u001b[0m \u001b[0;34m{\u001b[0m\u001b[0;34m}\u001b[0m\u001b[0;34m\u001b[0m\u001b[0;34m\u001b[0m\u001b[0m\n\u001b[1;32m    299\u001b[0m \u001b[0;34m\u001b[0m\u001b[0m\n",
            "\u001b[0;32m/usr/local/lib/python3.11/dist-packages/statsmodels/tsa/holtwinters/model.py\u001b[0m in \u001b[0;36m_initialize\u001b[0;34m(self)\u001b[0m\n\u001b[1;32m    433\u001b[0m         \u001b[0;32melif\u001b[0m \u001b[0mself\u001b[0m\u001b[0;34m.\u001b[0m\u001b[0m_initialization_method\u001b[0m \u001b[0;34m==\u001b[0m \u001b[0;34m\"estimated\"\u001b[0m\u001b[0;34m:\u001b[0m\u001b[0;34m\u001b[0m\u001b[0;34m\u001b[0m\u001b[0m\n\u001b[1;32m    434\u001b[0m             \u001b[0;32mif\u001b[0m \u001b[0mself\u001b[0m\u001b[0;34m.\u001b[0m\u001b[0mnobs\u001b[0m \u001b[0;34m<\u001b[0m \u001b[0;36m10\u001b[0m \u001b[0;34m+\u001b[0m \u001b[0;36m2\u001b[0m \u001b[0;34m*\u001b[0m \u001b[0;34m(\u001b[0m\u001b[0mself\u001b[0m\u001b[0;34m.\u001b[0m\u001b[0mseasonal_periods\u001b[0m \u001b[0;34m//\u001b[0m \u001b[0;36m2\u001b[0m\u001b[0;34m)\u001b[0m\u001b[0;34m:\u001b[0m\u001b[0;34m\u001b[0m\u001b[0;34m\u001b[0m\u001b[0m\n\u001b[0;32m--> 435\u001b[0;31m                 \u001b[0;32mreturn\u001b[0m \u001b[0mself\u001b[0m\u001b[0;34m.\u001b[0m\u001b[0m_initialize_simple\u001b[0m\u001b[0;34m(\u001b[0m\u001b[0;34m)\u001b[0m\u001b[0;34m\u001b[0m\u001b[0;34m\u001b[0m\u001b[0m\n\u001b[0m\u001b[1;32m    436\u001b[0m             \u001b[0;32melse\u001b[0m\u001b[0;34m:\u001b[0m\u001b[0;34m\u001b[0m\u001b[0;34m\u001b[0m\u001b[0m\n\u001b[1;32m    437\u001b[0m                 \u001b[0;32mreturn\u001b[0m \u001b[0mself\u001b[0m\u001b[0;34m.\u001b[0m\u001b[0m_initialize_heuristic\u001b[0m\u001b[0;34m(\u001b[0m\u001b[0;34m)\u001b[0m\u001b[0;34m\u001b[0m\u001b[0;34m\u001b[0m\u001b[0m\n",
            "\u001b[0;32m/usr/local/lib/python3.11/dist-packages/statsmodels/tsa/holtwinters/model.py\u001b[0m in \u001b[0;36m_initialize_simple\u001b[0;34m(self)\u001b[0m\n\u001b[1;32m    440\u001b[0m         \u001b[0mtrend\u001b[0m \u001b[0;34m=\u001b[0m \u001b[0mself\u001b[0m\u001b[0;34m.\u001b[0m\u001b[0mtrend\u001b[0m \u001b[0;32mif\u001b[0m \u001b[0mself\u001b[0m\u001b[0;34m.\u001b[0m\u001b[0mhas_trend\u001b[0m \u001b[0;32melse\u001b[0m \u001b[0;32mFalse\u001b[0m\u001b[0;34m\u001b[0m\u001b[0;34m\u001b[0m\u001b[0m\n\u001b[1;32m    441\u001b[0m         \u001b[0mseasonal\u001b[0m \u001b[0;34m=\u001b[0m \u001b[0mself\u001b[0m\u001b[0;34m.\u001b[0m\u001b[0mseasonal\u001b[0m \u001b[0;32mif\u001b[0m \u001b[0mself\u001b[0m\u001b[0;34m.\u001b[0m\u001b[0mhas_seasonal\u001b[0m \u001b[0;32melse\u001b[0m \u001b[0;32mFalse\u001b[0m\u001b[0;34m\u001b[0m\u001b[0;34m\u001b[0m\u001b[0m\n\u001b[0;32m--> 442\u001b[0;31m         lvl, trend, seas = _initialization_simple(\n\u001b[0m\u001b[1;32m    443\u001b[0m             \u001b[0mself\u001b[0m\u001b[0;34m.\u001b[0m\u001b[0m_y\u001b[0m\u001b[0;34m,\u001b[0m \u001b[0mtrend\u001b[0m\u001b[0;34m,\u001b[0m \u001b[0mseasonal\u001b[0m\u001b[0;34m,\u001b[0m \u001b[0mself\u001b[0m\u001b[0;34m.\u001b[0m\u001b[0mseasonal_periods\u001b[0m\u001b[0;34m\u001b[0m\u001b[0;34m\u001b[0m\u001b[0m\n\u001b[1;32m    444\u001b[0m         )\n",
            "\u001b[0;32m/usr/local/lib/python3.11/dist-packages/statsmodels/tsa/exponential_smoothing/initialization.py\u001b[0m in \u001b[0;36m_initialization_simple\u001b[0;34m(endog, trend, seasonal, seasonal_periods)\u001b[0m\n\u001b[1;32m     24\u001b[0m     \u001b[0;32melse\u001b[0m\u001b[0;34m:\u001b[0m\u001b[0;34m\u001b[0m\u001b[0;34m\u001b[0m\u001b[0m\n\u001b[1;32m     25\u001b[0m         \u001b[0;32mif\u001b[0m \u001b[0mnobs\u001b[0m \u001b[0;34m<\u001b[0m \u001b[0;36m2\u001b[0m \u001b[0;34m*\u001b[0m \u001b[0mseasonal_periods\u001b[0m\u001b[0;34m:\u001b[0m\u001b[0;34m\u001b[0m\u001b[0;34m\u001b[0m\u001b[0m\n\u001b[0;32m---> 26\u001b[0;31m             raise ValueError('Cannot compute initial seasonals using'\n\u001b[0m\u001b[1;32m     27\u001b[0m                              \u001b[0;34m' heuristic method with less than two full'\u001b[0m\u001b[0;34m\u001b[0m\u001b[0;34m\u001b[0m\u001b[0m\n\u001b[1;32m     28\u001b[0m                              ' seasonal cycles in the data.')\n",
            "\u001b[0;31mValueError\u001b[0m: Cannot compute initial seasonals using heuristic method with less than two full seasonal cycles in the data."
          ]
        }
      ]
    },
    {
      "cell_type": "code",
      "source": [
        "\n",
        "from statsmodels.tsa.holtwinters import ExponentialSmoothing\n",
        "from datetime import datetime, timedelta\n",
        "import pandas as pd\n",
        "import numpy as np\n",
        "import random\n",
        "import os\n",
        "\n",
        "# Regenerate orders for 2 years of data\n",
        "num_orders = 8000  # Increase number of orders\n",
        "orders['order_date'] = [datetime.today() - timedelta(days=random.randint(1, 730)) for _ in range(num_orders)]\n",
        "\n",
        "# Prepare the data\n",
        "orders['order_date'] = pd.to_datetime(orders['order_date'])\n",
        "data['month'] = orders['order_date'].dt.to_period('M').dt.to_timestamp()\n",
        "monthly_sales = data.groupby('month')['amount'].sum()\n",
        "\n",
        "# Apply Exponential Smoothing again\n",
        "model = ExponentialSmoothing(monthly_sales, trend='add', seasonal='add', seasonal_periods=12)\n",
        "fitted_model = model.fit()\n",
        "forecast = fitted_model.forecast(6)\n",
        "\n",
        "# Save the updated forecast\n",
        "forecast.to_csv(f'{project_folder}/updated_sales_forecast.csv')\n",
        "\n",
        "print(\"✅ Extended data and updated forecast saved successfully!\")"
      ],
      "metadata": {
        "colab": {
          "base_uri": "https://localhost:8080/",
          "height": 703
        },
        "id": "teyfbMp6KeTT",
        "outputId": "9a32af82-f0c1-4a25-d145-95483f3ae8d8"
      },
      "execution_count": null,
      "outputs": [
        {
          "output_type": "error",
          "ename": "ValueError",
          "evalue": "Length of values (8000) does not match length of index (5000)",
          "traceback": [
            "\u001b[0;31m---------------------------------------------------------------------------\u001b[0m",
            "\u001b[0;31mValueError\u001b[0m                                Traceback (most recent call last)",
            "\u001b[0;32m<ipython-input-13-67cda77c4f32>\u001b[0m in \u001b[0;36m<cell line: 0>\u001b[0;34m()\u001b[0m\n\u001b[1;32m      8\u001b[0m \u001b[0;31m# Regenerate orders for 2 years of data\u001b[0m\u001b[0;34m\u001b[0m\u001b[0;34m\u001b[0m\u001b[0m\n\u001b[1;32m      9\u001b[0m \u001b[0mnum_orders\u001b[0m \u001b[0;34m=\u001b[0m \u001b[0;36m8000\u001b[0m  \u001b[0;31m# Increase number of orders\u001b[0m\u001b[0;34m\u001b[0m\u001b[0;34m\u001b[0m\u001b[0m\n\u001b[0;32m---> 10\u001b[0;31m \u001b[0morders\u001b[0m\u001b[0;34m[\u001b[0m\u001b[0;34m'order_date'\u001b[0m\u001b[0;34m]\u001b[0m \u001b[0;34m=\u001b[0m \u001b[0;34m[\u001b[0m\u001b[0mdatetime\u001b[0m\u001b[0;34m.\u001b[0m\u001b[0mtoday\u001b[0m\u001b[0;34m(\u001b[0m\u001b[0;34m)\u001b[0m \u001b[0;34m-\u001b[0m \u001b[0mtimedelta\u001b[0m\u001b[0;34m(\u001b[0m\u001b[0mdays\u001b[0m\u001b[0;34m=\u001b[0m\u001b[0mrandom\u001b[0m\u001b[0;34m.\u001b[0m\u001b[0mrandint\u001b[0m\u001b[0;34m(\u001b[0m\u001b[0;36m1\u001b[0m\u001b[0;34m,\u001b[0m \u001b[0;36m730\u001b[0m\u001b[0;34m)\u001b[0m\u001b[0;34m)\u001b[0m \u001b[0;32mfor\u001b[0m \u001b[0m_\u001b[0m \u001b[0;32min\u001b[0m \u001b[0mrange\u001b[0m\u001b[0;34m(\u001b[0m\u001b[0mnum_orders\u001b[0m\u001b[0;34m)\u001b[0m\u001b[0;34m]\u001b[0m\u001b[0;34m\u001b[0m\u001b[0;34m\u001b[0m\u001b[0m\n\u001b[0m\u001b[1;32m     11\u001b[0m \u001b[0;34m\u001b[0m\u001b[0m\n\u001b[1;32m     12\u001b[0m \u001b[0;31m# Prepare the data\u001b[0m\u001b[0;34m\u001b[0m\u001b[0;34m\u001b[0m\u001b[0m\n",
            "\u001b[0;32m/usr/local/lib/python3.11/dist-packages/pandas/core/frame.py\u001b[0m in \u001b[0;36m__setitem__\u001b[0;34m(self, key, value)\u001b[0m\n\u001b[1;32m   4309\u001b[0m         \u001b[0;32melse\u001b[0m\u001b[0;34m:\u001b[0m\u001b[0;34m\u001b[0m\u001b[0;34m\u001b[0m\u001b[0m\n\u001b[1;32m   4310\u001b[0m             \u001b[0;31m# set column\u001b[0m\u001b[0;34m\u001b[0m\u001b[0;34m\u001b[0m\u001b[0m\n\u001b[0;32m-> 4311\u001b[0;31m             \u001b[0mself\u001b[0m\u001b[0;34m.\u001b[0m\u001b[0m_set_item\u001b[0m\u001b[0;34m(\u001b[0m\u001b[0mkey\u001b[0m\u001b[0;34m,\u001b[0m \u001b[0mvalue\u001b[0m\u001b[0;34m)\u001b[0m\u001b[0;34m\u001b[0m\u001b[0;34m\u001b[0m\u001b[0m\n\u001b[0m\u001b[1;32m   4312\u001b[0m \u001b[0;34m\u001b[0m\u001b[0m\n\u001b[1;32m   4313\u001b[0m     \u001b[0;32mdef\u001b[0m \u001b[0m_setitem_slice\u001b[0m\u001b[0;34m(\u001b[0m\u001b[0mself\u001b[0m\u001b[0;34m,\u001b[0m \u001b[0mkey\u001b[0m\u001b[0;34m:\u001b[0m \u001b[0mslice\u001b[0m\u001b[0;34m,\u001b[0m \u001b[0mvalue\u001b[0m\u001b[0;34m)\u001b[0m \u001b[0;34m->\u001b[0m \u001b[0;32mNone\u001b[0m\u001b[0;34m:\u001b[0m\u001b[0;34m\u001b[0m\u001b[0;34m\u001b[0m\u001b[0m\n",
            "\u001b[0;32m/usr/local/lib/python3.11/dist-packages/pandas/core/frame.py\u001b[0m in \u001b[0;36m_set_item\u001b[0;34m(self, key, value)\u001b[0m\n\u001b[1;32m   4522\u001b[0m         \u001b[0mensure\u001b[0m \u001b[0mhomogeneity\u001b[0m\u001b[0;34m.\u001b[0m\u001b[0;34m\u001b[0m\u001b[0;34m\u001b[0m\u001b[0m\n\u001b[1;32m   4523\u001b[0m         \"\"\"\n\u001b[0;32m-> 4524\u001b[0;31m         \u001b[0mvalue\u001b[0m\u001b[0;34m,\u001b[0m \u001b[0mrefs\u001b[0m \u001b[0;34m=\u001b[0m \u001b[0mself\u001b[0m\u001b[0;34m.\u001b[0m\u001b[0m_sanitize_column\u001b[0m\u001b[0;34m(\u001b[0m\u001b[0mvalue\u001b[0m\u001b[0;34m)\u001b[0m\u001b[0;34m\u001b[0m\u001b[0;34m\u001b[0m\u001b[0m\n\u001b[0m\u001b[1;32m   4525\u001b[0m \u001b[0;34m\u001b[0m\u001b[0m\n\u001b[1;32m   4526\u001b[0m         if (\n",
            "\u001b[0;32m/usr/local/lib/python3.11/dist-packages/pandas/core/frame.py\u001b[0m in \u001b[0;36m_sanitize_column\u001b[0;34m(self, value)\u001b[0m\n\u001b[1;32m   5264\u001b[0m \u001b[0;34m\u001b[0m\u001b[0m\n\u001b[1;32m   5265\u001b[0m         \u001b[0;32mif\u001b[0m \u001b[0mis_list_like\u001b[0m\u001b[0;34m(\u001b[0m\u001b[0mvalue\u001b[0m\u001b[0;34m)\u001b[0m\u001b[0;34m:\u001b[0m\u001b[0;34m\u001b[0m\u001b[0;34m\u001b[0m\u001b[0m\n\u001b[0;32m-> 5266\u001b[0;31m             \u001b[0mcom\u001b[0m\u001b[0;34m.\u001b[0m\u001b[0mrequire_length_match\u001b[0m\u001b[0;34m(\u001b[0m\u001b[0mvalue\u001b[0m\u001b[0;34m,\u001b[0m \u001b[0mself\u001b[0m\u001b[0;34m.\u001b[0m\u001b[0mindex\u001b[0m\u001b[0;34m)\u001b[0m\u001b[0;34m\u001b[0m\u001b[0;34m\u001b[0m\u001b[0m\n\u001b[0m\u001b[1;32m   5267\u001b[0m         \u001b[0marr\u001b[0m \u001b[0;34m=\u001b[0m \u001b[0msanitize_array\u001b[0m\u001b[0;34m(\u001b[0m\u001b[0mvalue\u001b[0m\u001b[0;34m,\u001b[0m \u001b[0mself\u001b[0m\u001b[0;34m.\u001b[0m\u001b[0mindex\u001b[0m\u001b[0;34m,\u001b[0m \u001b[0mcopy\u001b[0m\u001b[0;34m=\u001b[0m\u001b[0;32mTrue\u001b[0m\u001b[0;34m,\u001b[0m \u001b[0mallow_2d\u001b[0m\u001b[0;34m=\u001b[0m\u001b[0;32mTrue\u001b[0m\u001b[0;34m)\u001b[0m\u001b[0;34m\u001b[0m\u001b[0;34m\u001b[0m\u001b[0m\n\u001b[1;32m   5268\u001b[0m         if (\n",
            "\u001b[0;32m/usr/local/lib/python3.11/dist-packages/pandas/core/common.py\u001b[0m in \u001b[0;36mrequire_length_match\u001b[0;34m(data, index)\u001b[0m\n\u001b[1;32m    571\u001b[0m     \"\"\"\n\u001b[1;32m    572\u001b[0m     \u001b[0;32mif\u001b[0m \u001b[0mlen\u001b[0m\u001b[0;34m(\u001b[0m\u001b[0mdata\u001b[0m\u001b[0;34m)\u001b[0m \u001b[0;34m!=\u001b[0m \u001b[0mlen\u001b[0m\u001b[0;34m(\u001b[0m\u001b[0mindex\u001b[0m\u001b[0;34m)\u001b[0m\u001b[0;34m:\u001b[0m\u001b[0;34m\u001b[0m\u001b[0;34m\u001b[0m\u001b[0m\n\u001b[0;32m--> 573\u001b[0;31m         raise ValueError(\n\u001b[0m\u001b[1;32m    574\u001b[0m             \u001b[0;34m\"Length of values \"\u001b[0m\u001b[0;34m\u001b[0m\u001b[0;34m\u001b[0m\u001b[0m\n\u001b[1;32m    575\u001b[0m             \u001b[0;34mf\"({len(data)}) \"\u001b[0m\u001b[0;34m\u001b[0m\u001b[0;34m\u001b[0m\u001b[0m\n",
            "\u001b[0;31mValueError\u001b[0m: Length of values (8000) does not match length of index (5000)"
          ]
        }
      ]
    },
    {
      "cell_type": "code",
      "source": [
        "\n",
        "from statsmodels.tsa.holtwinters import ExponentialSmoothing\n",
        "from datetime import datetime, timedelta\n",
        "import pandas as pd\n",
        "import numpy as np\n",
        "import random\n",
        "import os\n",
        "\n",
        "# Regenerate orders with 8000 records for 2 years\n",
        "num_orders = 8000\n",
        "orders = pd.DataFrame({\n",
        "    'order_id': np.arange(1, num_orders + 1),\n",
        "    'customer_id': np.random.choice(customers['customer_id'], num_orders),\n",
        "    'order_date': [datetime.today() - timedelta(days=random.randint(1, 730)) for _ in range(num_orders)],\n",
        "    'amount': np.random.exponential(scale=100, size=num_orders).round(2),\n",
        "    'product_category': np.random.choice(['Electronics', 'Fashion', 'Home', 'Toys', 'Books'], num_orders)\n",
        "})\n",
        "\n",
        "# Prepare the data\n",
        "orders['order_date'] = pd.to_datetime(orders['order_date'])\n",
        "data = pd.merge(orders, customers, on='customer_id')\n",
        "data['month'] = data['order_date'].dt.to_period('M').dt.to_timestamp()\n",
        "monthly_sales = data.groupby('month')['amount'].sum()\n",
        "\n",
        "# Apply Exponential Smoothing again\n",
        "model = ExponentialSmoothing(monthly_sales, trend='add', seasonal='add', seasonal_periods=12)\n",
        "fitted_model = model.fit()\n",
        "forecast = fitted_model.forecast(6)\n",
        "\n",
        "# Save the updated forecast\n",
        "forecast.to_csv(f'{project_folder}/updated_sales_forecast.csv')\n",
        "\n",
        "print(\"✅ Extended data and updated forecast saved successfully!\")"
      ],
      "metadata": {
        "colab": {
          "base_uri": "https://localhost:8080/"
        },
        "id": "d0hOT96OK4xc",
        "outputId": "4ce186e3-adeb-4677-b2fa-8d7a6486183a"
      },
      "execution_count": null,
      "outputs": [
        {
          "output_type": "stream",
          "name": "stdout",
          "text": [
            "✅ Extended data and updated forecast saved successfully!\n"
          ]
        },
        {
          "output_type": "stream",
          "name": "stderr",
          "text": [
            "/usr/local/lib/python3.11/dist-packages/statsmodels/tsa/base/tsa_model.py:473: ValueWarning: No frequency information was provided, so inferred frequency MS will be used.\n",
            "  self._init_dates(dates, freq)\n",
            "/usr/local/lib/python3.11/dist-packages/statsmodels/tsa/holtwinters/model.py:918: ConvergenceWarning: Optimization failed to converge. Check mle_retvals.\n",
            "  warnings.warn(\n"
          ]
        }
      ]
    },
    {
      "cell_type": "code",
      "source": [
        "\n",
        "from google.colab import drive\n",
        "drive.mount('/content/drive')"
      ],
      "metadata": {
        "colab": {
          "base_uri": "https://localhost:8080/"
        },
        "id": "DSOOqWAZhRny",
        "outputId": "e0a18ac4-e88a-4079-a483-5ed267158602"
      },
      "execution_count": null,
      "outputs": [
        {
          "output_type": "stream",
          "name": "stdout",
          "text": [
            "Mounted at /content/drive\n"
          ]
        }
      ]
    },
    {
      "cell_type": "code",
      "source": [
        "\n",
        "import os\n",
        "\n",
        "# Define the path to the project folder\n",
        "project_path = \"/content/drive/My Drive/customer_behavior_project\"\n",
        "\n",
        "# Create the folder if it doesn't exist\n",
        "os.makedirs(project_path, exist_ok=True)\n",
        "\n",
        "print(f\"Project folder created at: {project_path}\")"
      ],
      "metadata": {
        "colab": {
          "base_uri": "https://localhost:8080/"
        },
        "id": "1Ir1yWTyhdMX",
        "outputId": "9f03b276-011f-44c4-b78c-07a1aa423cd9"
      },
      "execution_count": null,
      "outputs": [
        {
          "output_type": "stream",
          "name": "stdout",
          "text": [
            "Project folder created at: /content/drive/My Drive/customer_behavior_project\n"
          ]
        }
      ]
    },
    {
      "cell_type": "code",
      "source": [
        "\n",
        "import pandas as pd\n",
        "\n",
        "# Sample data\n",
        "data = {\n",
        "    \"Customer_ID\": [1, 2, 3],\n",
        "    \"Name\": [\"Alice\", \"Bob\", \"Charlie\"],\n",
        "    \"Age\": [25, 30, 35],\n",
        "    \"Spending_Score\": [80, 60, 40]\n",
        "}\n",
        "\n",
        "df = pd.DataFrame(data)\n",
        "\n",
        "# Save to CSV\n",
        "csv_path = os.path.join(project_path, \"data.csv\")\n",
        "df.to_csv(csv_path, index=False)\n",
        "\n",
        "print(f\"CSV file created at: {csv_path}\")"
      ],
      "metadata": {
        "colab": {
          "base_uri": "https://localhost:8080/"
        },
        "id": "Nj8C_88ght7l",
        "outputId": "aa31038a-60fc-4fdf-e779-f7872e72802b"
      },
      "execution_count": null,
      "outputs": [
        {
          "output_type": "stream",
          "name": "stdout",
          "text": [
            "CSV file created at: /content/drive/My Drive/customer_behavior_project/data.csv\n"
          ]
        }
      ]
    },
    {
      "cell_type": "code",
      "source": [
        "\n",
        "readme_content = \"\"\"# Customer Behavior Analysis\n",
        "This project analyzes customer data to understand spending behavior and patterns.\n",
        "## Files\n",
        "- `data.csv`: Sample customer data.\n",
        "- `analysis.ipynb`: Jupyter notebook with data analysis.\n",
        "\"\"\"\n",
        "\n",
        "# Save the README.md file\n",
        "readme_path = os.path.join(project_path, \"README.md\")\n",
        "with open(readme_path, \"w\") as f:\n",
        "    f.write(readme_content)\n",
        "\n",
        "print(f\"README.md file created at: {readme_path}\")"
      ],
      "metadata": {
        "colab": {
          "base_uri": "https://localhost:8080/"
        },
        "id": "4OsnO3tYijep",
        "outputId": "5fd5db2d-126c-48d8-e938-2e45e20c3973"
      },
      "execution_count": null,
      "outputs": [
        {
          "output_type": "stream",
          "name": "stdout",
          "text": [
            "README.md file created at: /content/drive/My Drive/customer_behavior_project/README.md\n"
          ]
        }
      ]
    },
    {
      "cell_type": "code",
      "source": [
        "\n",
        "import nbformat as nbf\n",
        "\n",
        "nb = nbf.v4.new_notebook()\n",
        "\n",
        "code_cells = [\n",
        "    \"import pandas as pd\\n\\n# Load data\\ndf = pd.read_csv('data.csv')\\ndf.head()\",\n",
        "    \"import matplotlib.pyplot as plt\\n\\n# Plot spending score\\ndf.plot(kind='bar', x='Name', y='Spending_Score')\\nplt.show()\"\n",
        "]\n",
        "\n",
        "# Add cells to the notebook\n",
        "nb['cells'] = [nbf.v4.new_code_cell(cell) for cell in code_cells]\n",
        "\n",
        "# Save the notebook\n",
        "notebook_path = os.path.join(project_path, \"analysis.ipynb\")\n",
        "with open(notebook_path, \"w\") as f:\n",
        "    nbf.write(nb, f)\n",
        "\n",
        "print(f\"Notebook file created at: {notebook_path}\")"
      ],
      "metadata": {
        "colab": {
          "base_uri": "https://localhost:8080/"
        },
        "id": "F3RN9wE5i19a",
        "outputId": "522ac7c0-bf8d-4299-d12a-66664da1dad8"
      },
      "execution_count": null,
      "outputs": [
        {
          "output_type": "stream",
          "name": "stdout",
          "text": [
            "Notebook file created at: /content/drive/My Drive/customer_behavior_project/analysis.ipynb\n"
          ]
        }
      ]
    },
    {
      "cell_type": "code",
      "source": [
        "!apt-get install git"
      ],
      "metadata": {
        "colab": {
          "base_uri": "https://localhost:8080/"
        },
        "id": "1X4Wvg-wi9AB",
        "outputId": "e0df468f-2b24-4bc1-b208-d32664417cff"
      },
      "execution_count": null,
      "outputs": [
        {
          "output_type": "stream",
          "name": "stdout",
          "text": [
            "Reading package lists... Done\n",
            "Building dependency tree... Done\n",
            "Reading state information... Done\n",
            "git is already the newest version (1:2.34.1-1ubuntu1.12).\n",
            "0 upgraded, 0 newly installed, 0 to remove and 29 not upgraded.\n"
          ]
        }
      ]
    },
    {
      "cell_type": "code",
      "source": [
        "\n",
        "from google.colab import drive\n",
        "drive.mount('/content/drive')"
      ],
      "metadata": {
        "colab": {
          "base_uri": "https://localhost:8080/"
        },
        "id": "oz8xA5d-Mwd2",
        "outputId": "870cac6c-917a-4344-a2b0-5b830208f465"
      },
      "execution_count": null,
      "outputs": [
        {
          "output_type": "stream",
          "name": "stdout",
          "text": [
            "Mounted at /content/drive\n"
          ]
        }
      ]
    },
    {
      "cell_type": "code",
      "source": [
        "\n",
        "import os\n",
        "\n",
        "# Define the base directory for the project\n",
        "base_dir = '/content/drive/My Drive/customer_behavior_project'\n",
        "\n",
        "# Define the subdirectories\n",
        "subdirs = ['data', 'reports', 'docs', 'scripts']\n",
        "\n",
        "# Create directories\n",
        "for subdir in subdirs:\n",
        "    os.makedirs(os.path.join(base_dir, subdir), exist_ok=True)\n",
        "\n",
        "print(\"Project structure created successfully.\")"
      ],
      "metadata": {
        "colab": {
          "base_uri": "https://localhost:8080/"
        },
        "id": "hyUuZG8HNWJ8",
        "outputId": "2d40c66f-f9a2-4db5-8f60-404a65fe9d64"
      },
      "execution_count": null,
      "outputs": [
        {
          "output_type": "stream",
          "name": "stdout",
          "text": [
            "Project structure created successfully.\n"
          ]
        }
      ]
    },
    {
      "cell_type": "code",
      "source": [
        "\n",
        "readme_content = \"\"\"\n",
        "# Customer Behavior Project\n",
        "\n",
        "## Overview\n",
        "This project analyzes advanced customer behavior patterns and simulates futuristic cybersecurity threats. It aims to develop predictive analytics, defense mechanisms, and automation strategies that will be crucial for data analysts in the coming years.\n",
        "\n",
        "## Key Features\n",
        "- **Advanced Data Simulation**: Realistic and complex customer data.\n",
        "- **Cybersecurity Threat Simulation**: Analysis of potential data breaches.\n",
        "- **Predictive Models**: AI-driven analysis for future trends.\n",
        "- **Automated Defense Systems**: Learning how to detect and defend against advanced threats.\n",
        "\n",
        "## Author\n",
        "- **GitHub**: [ElevenStream](https://github.com/ElevenStream)\n",
        "- **Email**: luftraum@tutanota.de\n",
        "\"\"\"\n",
        "\n",
        "with open(os.path.join(base_dir, 'README.md'), 'w') as f:\n",
        "    f.write(readme_content)\n",
        "\n",
        "print(\"README.md created.\")"
      ],
      "metadata": {
        "colab": {
          "base_uri": "https://localhost:8080/"
        },
        "id": "3D1HtEUtN4n9",
        "outputId": "a01eae79-642b-49b5-fe3e-0b5de3fbabf4"
      },
      "execution_count": null,
      "outputs": [
        {
          "output_type": "stream",
          "name": "stdout",
          "text": [
            "README.md created.\n"
          ]
        }
      ]
    },
    {
      "cell_type": "code",
      "source": [
        "\n",
        "import pandas as pd\n",
        "import numpy as np\n",
        "\n",
        "# Simulated customer data\n",
        "np.random.seed(42)\n",
        "data = {\n",
        "    'customer_id': np.arange(1000, 1050),\n",
        "    'age': np.random.randint(18, 70, 50),\n",
        "    'gender': np.random.choice(['Male', 'Female'], 50),\n",
        "    'purchase_amount': np.random.uniform(20.5, 500.75, 50).round(2),\n",
        "    'purchase_frequency': np.random.randint(1, 20, 50),\n",
        "    'last_purchase': pd.date_range(end=pd.Timestamp.today(), periods=50).strftime('%Y-%m-%d')\n",
        "}\n",
        "\n",
        "df = pd.DataFrame(data)\n",
        "df.to_csv(os.path.join(base_dir, 'data', 'customer_behavior.csv'), index=False)\n",
        "\n",
        "print(\"Simulated customer behavior data created.\")"
      ],
      "metadata": {
        "colab": {
          "base_uri": "https://localhost:8080/"
        },
        "id": "4q0F14umOYNf",
        "outputId": "9d854ad7-24bd-4904-ea81-0a02673d43e9"
      },
      "execution_count": null,
      "outputs": [
        {
          "output_type": "stream",
          "name": "stdout",
          "text": [
            "Simulated customer behavior data created.\n"
          ]
        }
      ]
    },
    {
      "cell_type": "code",
      "source": [
        "\n",
        "# Simulated cybersecurity threat data\n",
        "threat_data = {\n",
        "    'threat_id': np.arange(1, 21),\n",
        "    'attack_type': np.random.choice(['Phishing', 'Brute Force', 'SQL Injection', 'Malware'], 20),\n",
        "    'severity': np.random.choice(['Low', 'Medium', 'High', 'Critical'], 20),\n",
        "    'target_system': np.random.choice(['Database', 'Application', 'Network'], 20),\n",
        "    'detection_method': np.random.choice(['AI Model', 'Manual Review', 'Firewall'], 20),\n",
        "    'date_detected': pd.date_range(end=pd.Timestamp.today(), periods=20).strftime('%Y-%m-%d')\n",
        "}\n",
        "\n",
        "threat_df = pd.DataFrame(threat_data)\n",
        "threat_df.to_csv(os.path.join(base_dir, 'data', 'threat_simulation.csv'), index=False)\n",
        "\n",
        "print(\"Simulated threat data created.\")"
      ],
      "metadata": {
        "colab": {
          "base_uri": "https://localhost:8080/"
        },
        "id": "UALKgDrLOk-g",
        "outputId": "34e4b240-816e-407b-b7da-ea9108de6d54"
      },
      "execution_count": null,
      "outputs": [
        {
          "output_type": "stream",
          "name": "stdout",
          "text": [
            "Simulated threat data created.\n"
          ]
        }
      ]
    },
    {
      "cell_type": "code",
      "source": [
        "!pip install fpdf"
      ],
      "metadata": {
        "colab": {
          "base_uri": "https://localhost:8080/"
        },
        "id": "Le7aEy-oPZ2e",
        "outputId": "b33ac22b-0a00-4585-e841-af31ae0a9878"
      },
      "execution_count": null,
      "outputs": [
        {
          "output_type": "stream",
          "name": "stdout",
          "text": [
            "Collecting fpdf\n",
            "  Downloading fpdf-1.7.2.tar.gz (39 kB)\n",
            "  Preparing metadata (setup.py) ... \u001b[?25l\u001b[?25hdone\n",
            "Building wheels for collected packages: fpdf\n",
            "  Building wheel for fpdf (setup.py) ... \u001b[?25l\u001b[?25hdone\n",
            "  Created wheel for fpdf: filename=fpdf-1.7.2-py2.py3-none-any.whl size=40704 sha256=cda497a1c56f29b8160eb9ea6a66b9393d81f4b418ae5df033127a930967c5c9\n",
            "  Stored in directory: /root/.cache/pip/wheels/65/4f/66/bbda9866da446a72e206d6484cd97381cbc7859a7068541c36\n",
            "Successfully built fpdf\n",
            "Installing collected packages: fpdf\n",
            "Successfully installed fpdf-1.7.2\n"
          ]
        }
      ]
    },
    {
      "cell_type": "code",
      "source": [
        "\n",
        "from fpdf import FPDF\n",
        "\n",
        "pdf = FPDF()\n",
        "pdf.add_page()\n",
        "pdf.set_font(\"Arial\", size=12)\n",
        "pdf.multi_cell(0, 10, \"Customer Behavior Project Report\\n\\nThis report covers initial data simulations and cybersecurity threat scenarios for advanced data analysis.\", align=\"L\")\n",
        "pdf.output(os.path.join(base_dir, 'reports', 'project_report.pdf'))\n",
        "\n",
        "print(\"PDF report created.\")"
      ],
      "metadata": {
        "colab": {
          "base_uri": "https://localhost:8080/"
        },
        "id": "2N_LXqa7O8cf",
        "outputId": "6d816192-2e17-4aae-b1d4-70865ffba394"
      },
      "execution_count": null,
      "outputs": [
        {
          "output_type": "stream",
          "name": "stdout",
          "text": [
            "PDF report created.\n"
          ]
        }
      ]
    },
    {
      "cell_type": "code",
      "source": [
        "\n",
        "import os\n",
        "\n",
        "# List all files and directories from the root level to find the file\n",
        "for root, dirs, files in os.walk('/'):\n",
        "    for file in files:\n",
        "        if 'Customer_Behavior' in file:\n",
        "            print(os.path.join(root, file))"
      ],
      "metadata": {
        "colab": {
          "base_uri": "https://localhost:8080/"
        },
        "id": "PsDlsib7rFlT",
        "outputId": "b146f8a1-5862-4eda-f53b-de32f16c78ea"
      },
      "execution_count": 34,
      "outputs": [
        {
          "output_type": "stream",
          "name": "stdout",
          "text": [
            "/content/drive/MyDrive/Customer_Behavior. ipynb\n",
            "/content/drive/MyDrive/Colab Notebooks/Customer_Behavior. ipynb\n"
          ]
        }
      ]
    },
    {
      "cell_type": "code",
      "source": [
        "\n",
        "from google.colab import drive\n",
        "import os\n",
        "\n",
        "# Step 1: Mount Google Drive\n",
        "drive.mount('/content/drive')\n",
        "\n",
        "# Step 2: Define the base directory within Google Drive\n",
        "base_dir = '/content/drive/MyDrive/customer_behavior_project'\n",
        "\n",
        "# Define subdirectories\n",
        "subdirs = ['data', 'reports', 'scripts']\n",
        "\n",
        "# Create the directories\n",
        "for subdir in subdirs:\n",
        "    os.makedirs(os.path.join(base_dir, subdir), exist_ok=True)\n",
        "\n",
        "# Step 3: Create README.md file\n",
        "readme_content = \"\"\"\n",
        "# Customer Behavior Project\n",
        "\n",
        "This project involves advanced data analysis for customer behavior, predictive modeling, anomaly detection, and simulated cybersecurity analytics. It is designed to reflect the future skills required for data analysts.\n",
        "\n",
        "## Project Structure\n",
        "\n",
        "- **data/**: Contains datasets like customers, orders, behavior logs, and simulated attack data.\n",
        "- **reports/**: Stores generated PDF reports.\n",
        "- **scripts/**: Contains Python code and Jupyter notebooks.\n",
        "- **README.md**: This file.\n",
        "- **requirements.txt**: Python dependencies.\n",
        "\n",
        "## Key Features\n",
        "\n",
        "- Predictive analytics (customer churn prediction).\n",
        "- Anomaly detection in purchasing behavior.\n",
        "- Simulated cybersecurity scenarios and defense strategies.\n",
        "- Automated reporting with PDF generation.\n",
        "\"\"\"\n",
        "\n",
        "with open(os.path.join(base_dir, 'README.md'), 'w') as f:\n",
        "    f.write(readme_content)\n",
        "\n",
        "# Step 4: Create requirements.txt file\n",
        "requirements_content = \"\"\"\n",
        "pandas\n",
        "numpy\n",
        "matplotlib\n",
        "seaborn\n",
        "scikit-learn\n",
        "fpdf\n",
        "\"\"\"\n",
        "\n",
        "with open(os.path.join(base_dir, 'requirements.txt'), 'w') as f:\n",
        "    f.write(requirements_content)\n",
        "\n",
        "print(\"Google Drive mounted and project structure with initial files created successfully.\")"
      ],
      "metadata": {
        "colab": {
          "base_uri": "https://localhost:8080/"
        },
        "id": "WKKKvBAkuYpn",
        "outputId": "c83d7595-d1f7-47df-b5fd-890fedd4d31e"
      },
      "execution_count": 42,
      "outputs": [
        {
          "output_type": "stream",
          "name": "stdout",
          "text": [
            "Drive already mounted at /content/drive; to attempt to forcibly remount, call drive.mount(\"/content/drive\", force_remount=True).\n",
            "Google Drive mounted and project structure with initial files created successfully.\n"
          ]
        }
      ]
    },
    {
      "cell_type": "code",
      "source": [
        "\n",
        "from google.colab import drive\n",
        "import os\n",
        "\n",
        "# Step 1: Mount Google Drive (skip if already mounted)\n",
        "drive.mount('/content/drive', force_remount=False)\n",
        "\n",
        "# Step 2: Define the base directory within Google Drive\n",
        "base_dir = '/content/drive/MyDrive/customer_behavior_project'\n",
        "\n",
        "# Define subdirectories\n",
        "subdirs = ['data', 'reports', 'scripts']\n",
        "\n",
        "# Create the directories\n",
        "for subdir in subdirs:\n",
        "    os.makedirs(os.path.join(base_dir, subdir), exist_ok=True)\n",
        "\n",
        "# Step 3: Create README.md file\n",
        "readme_content = \"\"\"\n",
        "# Customer Behavior Project\n",
        "\n",
        "This project involves advanced data analysis for customer behavior, predictive modeling, anomaly detection, and simulated cybersecurity analytics. It is designed to reflect the future skills required for data analysts.\n",
        "\n",
        "## Project Structure\n",
        "\n",
        "- **data/**: Contains datasets like customers, orders, behavior logs, and simulated attack data.\n",
        "- **reports/**: Stores generated PDF reports.\n",
        "- **scripts/**: Contains Python code and Jupyter notebooks.\n",
        "- **README.md**: This file.\n",
        "- **requirements.txt**: Python dependencies.\n",
        "\n",
        "## Key Features\n",
        "\n",
        "- Predictive analytics (customer churn prediction).\n",
        "- Anomaly detection in purchasing behavior.\n",
        "- Simulated cybersecurity scenarios and defense strategies.\n",
        "- Automated reporting with PDF generation.\n",
        "\"\"\"\n",
        "\n",
        "with open(os.path.join(base_dir, 'README.md'), 'w') as f:\n",
        "    f.write(readme_content)\n",
        "\n",
        "# Step 4: Create requirements.txt file\n",
        "requirements_content = \"\"\"\n",
        "pandas\n",
        "numpy\n",
        "matplotlib\n",
        "seaborn\n",
        "scikit-learn\n",
        "fpdf\n",
        "\"\"\"\n",
        "\n",
        "with open(os.path.join(base_dir, 'requirements.txt'), 'w') as f:\n",
        "    f.write(requirements_content)\n",
        "\n",
        "print(\"Drive already mounted at /content/drive; to attempt to forcibly remount, call drive.mount('/content/drive', force_remount=True).\")\n",
        "print(\"Google Drive mounted and project structure with initial files created successfully.\")"
      ],
      "metadata": {
        "colab": {
          "base_uri": "https://localhost:8080/"
        },
        "id": "Vl1ug1xKucpn",
        "outputId": "1be4415f-996d-4415-bd7b-533f9071e998"
      },
      "execution_count": 43,
      "outputs": [
        {
          "output_type": "stream",
          "name": "stdout",
          "text": [
            "Drive already mounted at /content/drive; to attempt to forcibly remount, call drive.mount(\"/content/drive\", force_remount=True).\n",
            "Drive already mounted at /content/drive; to attempt to forcibly remount, call drive.mount('/content/drive', force_remount=True).\n",
            "Google Drive mounted and project structure with initial files created successfully.\n"
          ]
        }
      ]
    },
    {
      "cell_type": "code",
      "source": [
        "\n",
        "import pandas as pd\n",
        "import numpy as np\n",
        "from datetime import datetime, timedelta\n",
        "import random\n",
        "import os\n",
        "\n",
        "# Define the data directory\n",
        "data_dir = os.path.join(base_dir, 'data')\n",
        "\n",
        "# 1. Generate customers.csv\n",
        "num_customers = 100\n",
        "customers = {\n",
        "    \"customer_id\": range(1, num_customers + 1),\n",
        "    \"name\": [f\"Customer_{i}\" for i in range(1, num_customers + 1)],\n",
        "    \"email\": [f\"customer{i}@example.com\" for i in range(1, num_customers + 1)],\n",
        "    \"signup_date\": [datetime.now() - timedelta(days=random.randint(1, 1000)) for _ in range(num_customers)],\n",
        "    \"country\": np.random.choice([\"USA\", \"UK\", \"Canada\", \"Germany\", \"Australia\"], num_customers)\n",
        "}\n",
        "\n",
        "pd.DataFrame(customers).to_csv(os.path.join(data_dir, 'customers.csv'), index=False)\n",
        "\n",
        "# 2. Generate orders.csv\n",
        "num_orders = 500\n",
        "orders = {\n",
        "    \"order_id\": range(1, num_orders + 1),\n",
        "    \"customer_id\": np.random.choice(customers[\"customer_id\"], num_orders),\n",
        "    \"order_date\": [datetime.now() - timedelta(days=random.randint(1, 365)) for _ in range(num_orders)],\n",
        "    \"amount\": np.random.uniform(20.0, 1000.0, num_orders).round(2),\n",
        "    \"payment_method\": np.random.choice([\"Credit Card\", \"PayPal\", \"Bitcoin\"], num_orders)\n",
        "}\n",
        "\n",
        "pd.DataFrame(orders).to_csv(os.path.join(data_dir, 'orders.csv'), index=False)\n",
        "\n",
        "# 3. Generate behavior_logs.csv\n",
        "num_logs = 1000\n",
        "behavior_logs = {\n",
        "    \"log_id\": range(1, num_logs + 1),\n",
        "    \"customer_id\": np.random.choice(customers[\"customer_id\"], num_logs),\n",
        "    \"timestamp\": [datetime.now() - timedelta(minutes=random.randint(1, 10000)) for _ in range(num_logs)],\n",
        "    \"action\": np.random.choice([\"click\", \"view\", \"purchase\", \"cart_addition\"], num_logs),\n",
        "    \"page_visited\": np.random.choice([\"home\", \"product\", \"checkout\", \"search\"], num_logs)\n",
        "}\n",
        "\n",
        "pd.DataFrame(behavior_logs).to_csv(os.path.join(data_dir, 'behavior_logs.csv'), index=False)\n",
        "\n",
        "# 4. Generate cyber_attack_logs.csv (simulated futuristic attack patterns)\n",
        "num_attacks = 300\n",
        "attack_logs = {\n",
        "    \"attack_id\": range(1, num_attacks + 1),\n",
        "    \"timestamp\": [datetime.now() - timedelta(minutes=random.randint(1, 10000)) for _ in range(num_attacks)],\n",
        "    \"attack_type\": np.random.choice([\"phishing\", \"AI-predictive breach\", \"quantum intrusion\", \"deepfake scam\"], num_attacks),\n",
        "    \"severity\": np.random.choice([\"low\", \"medium\", \"high\", \"critical\"], num_attacks),\n",
        "    \"target\": np.random.choice([\"customer_account\", \"payment_gateway\", \"internal_system\"], num_attacks),\n",
        "    \"status\": np.random.choice([\"detected\", \"blocked\", \"missed\"], num_attacks)\n",
        "}\n",
        "\n",
        "pd.DataFrame(attack_logs).to_csv(os.path.join(data_dir, 'cyber_attack_logs.csv'), index=False)\n",
        "\n",
        "print(\"All data files generated and saved in the 'data' folder successfully.\")"
      ],
      "metadata": {
        "colab": {
          "base_uri": "https://localhost:8080/"
        },
        "id": "u8L924JHvZR3",
        "outputId": "8b472316-4f89-4775-a13a-aa86d80e3a1a"
      },
      "execution_count": 44,
      "outputs": [
        {
          "output_type": "stream",
          "name": "stdout",
          "text": [
            "All data files generated and saved in the 'data' folder successfully.\n"
          ]
        }
      ]
    },
    {
      "cell_type": "code",
      "source": [
        "\n",
        "import pandas as pd\n",
        "import numpy as np\n",
        "import matplotlib.pyplot as plt\n",
        "import seaborn as sns\n",
        "from sklearn.cluster import KMeans\n",
        "from sklearn.ensemble import IsolationForest\n",
        "from sklearn.model_selection import train_test_split\n",
        "from sklearn.ensemble import RandomForestClassifier\n",
        "from sklearn.metrics import classification_report, confusion_matrix\n",
        "import os\n",
        "\n",
        "# Load datasets\n",
        "data_dir = os.path.join(base_dir, 'data')\n",
        "customers = pd.read_csv(os.path.join(data_dir, 'customers.csv'))\n",
        "orders = pd.read_csv(os.path.join(data_dir, 'orders.csv'))\n",
        "behavior_logs = pd.read_csv(os.path.join(data_dir, 'behavior_logs.csv'))\n",
        "cyber_attacks = pd.read_csv(os.path.join(data_dir, 'cyber_attack_logs.csv'))\n",
        "\n",
        "# 1. Customer Segmentation using KMeans Clustering\n",
        "def customer_segmentation():\n",
        "    customer_summary = orders.groupby('customer_id').agg({\n",
        "        'amount': ['sum', 'mean', 'count']\n",
        "    }).reset_index()\n",
        "    customer_summary.columns = ['customer_id', 'total_spent', 'avg_spent', 'num_orders']\n",
        "\n",
        "    kmeans = KMeans(n_clusters=3, random_state=42)\n",
        "    customer_summary['segment'] = kmeans.fit_predict(customer_summary[['total_spent', 'avg_spent', 'num_orders']])\n",
        "\n",
        "    plt.figure(figsize=(8, 6))\n",
        "    sns.scatterplot(x='total_spent', y='avg_spent', hue='segment', data=customer_summary, palette='viridis')\n",
        "    plt.title('Customer Segmentation')\n",
        "    plt.savefig(os.path.join(base_dir, 'reports', 'customer_segmentation.png'))\n",
        "    plt.close()\n",
        "\n",
        "# 2. Churn Prediction using RandomForest\n",
        "def churn_prediction():\n",
        "    # Simulate churn feature\n",
        "    customers['churn'] = np.random.choice([0, 1], size=len(customers), p=[0.8, 0.2])\n",
        "\n",
        "    # Feature preparation\n",
        "    customer_orders = orders.groupby('customer_id')['amount'].sum().reset_index()\n",
        "    customer_orders.columns = ['customer_id', 'total_spent']\n",
        "    df = pd.merge(customers, customer_orders, on='customer_id', how='left').fillna(0)\n",
        "\n",
        "    X = df[['total_spent']]\n",
        "    y = df['churn']\n",
        "\n",
        "    X_train, X_test, y_train, y_test = train_test_split(X, y, test_size=0.3, random_state=42)\n",
        "    model = RandomForestClassifier()\n",
        "    model.fit(X_train, y_train)\n",
        "    y_pred = model.predict(X_test)\n",
        "\n",
        "    report = classification_report(y_test, y_pred)\n",
        "    with open(os.path.join(base_dir, 'reports', 'churn_report.txt'), 'w') as f:\n",
        "        f.write(report)\n",
        "\n",
        "# 3. Anomaly Detection in Behavior Logs\n",
        "def detect_anomalies():\n",
        "    model = IsolationForest(contamination=0.05)\n",
        "    behavior_logs['is_anomaly'] = model.fit_predict(behavior_logs[['log_id']])\n",
        "\n",
        "    anomalies = behavior_logs[behavior_logs['is_anomaly'] == -1]\n",
        "    anomalies.to_csv(os.path.join(base_dir, 'reports', 'anomalies.csv'), index=False)\n",
        "\n",
        "# 4. Cyber Attack Analysis\n",
        "def cyber_attack_analysis():\n",
        "    attack_summary = cyber_attacks.groupby(['attack_type', 'status']).size().reset_index(name='count')\n",
        "    attack_summary.to_csv(os.path.join(base_dir, 'reports', 'cyber_attack_summary.csv'), index=False)\n",
        "\n",
        "# Execute functions\n",
        "customer_segmentation()\n",
        "churn_prediction()\n",
        "detect_anomalies()\n",
        "cyber_attack_analysis()\n",
        "\n",
        "print(\"Advanced analytics completed. Reports saved in the 'reports' folder.\")"
      ],
      "metadata": {
        "colab": {
          "base_uri": "https://localhost:8080/"
        },
        "id": "kgtg14XIvvVw",
        "outputId": "93dfd7a7-c101-404d-ce35-15d1364906ae"
      },
      "execution_count": 45,
      "outputs": [
        {
          "output_type": "stream",
          "name": "stdout",
          "text": [
            "Advanced analytics completed. Reports saved in the 'reports' folder.\n"
          ]
        }
      ]
    },
    {
      "cell_type": "code",
      "source": [],
      "metadata": {
        "id": "EMo1y-aY1IU8"
      },
      "execution_count": null,
      "outputs": []
    }
  ]
}